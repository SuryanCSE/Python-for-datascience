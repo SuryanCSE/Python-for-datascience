{
 "cells": [
  {
   "cell_type": "markdown",
   "metadata": {},
   "source": [
    "# <center>PGP Data Science Engineering</center>\n",
    "## <center>Introduction to Programming – Mini Project:</center>\n"
   ]
  },
  {
   "cell_type": "markdown",
   "metadata": {},
   "source": [
    "### Problem 1:\n",
    "\n",
    "1. Write a program to calculate area of shapes. Your program should be capable of calculating the area of a square, rectangle, triangle and a circle. The user should be presented with options to select the shape. Based on which shape is chosed by the user, the program should ask for the appropriate input and print the resulting area on the screen.\n",
    "\n",
    "When the program is run, the screen should display something like this:\n",
    "\n",
    "**Which shape would you like to calculate the area for? Please enter the option number-**<br>\n",
    "**1. Square**<br>\n",
    "**2. Rectangle**<br>\n",
    "**3. Triangle**<br>\n",
    "**4. Circle**<br>\n",
    "**Enter Option: _**\n",
    "\n",
    "Say the user enters the option 1.\n",
    "\n",
    "**Please enter the length of a side: _**\n",
    "\n",
    "If the user enters a value of 5. The output should be:\n",
    "\n",
    "**The area of the square is 25**\n",
    "\n",
    "This program should indicate that the input is invalid if the user enters a character instead of a number as input. For instance if the user enters a value of ‘a’ instead of 5 in the previous example the program should prompt:\n",
    "\n",
    "**Invalid input, please enter a number: _**\n"
   ]
  },
  {
   "cell_type": "code",
   "execution_count": 1,
   "metadata": {},
   "outputs": [
    {
     "name": "stdout",
     "output_type": "stream",
     "text": [
      "Which shape would you like to calculate the area for? Please enter the option number\n",
      "1. Square\n",
      "2. Rectangle\n",
      "3. Triangle\n",
      "4. Circle\n",
      "Enter Option:3\n",
      "Enter the base:2\n",
      "Enter the height:5\n",
      "The area of the triangle is 5.0\n"
     ]
    }
   ],
   "source": [
    "s = input(\"\"\"Which shape would you like to calculate the area for? Please enter the option number\n",
    "1. Square\n",
    "2. Rectangle\n",
    "3. Triangle\n",
    "4. Circle\n",
    "Enter Option:\"\"\")\n",
    "\n",
    "if s.isdigit(): \n",
    "    if (s =='1'):\n",
    "        side = int(input('Please enter the lenght of the side:'))\n",
    "        res = side**2\n",
    "        print(\"The area of the sqaure is\",res)\n",
    "    elif(s == '2'):\n",
    "        l = int(input('Enter the length of the rectangle:'))\n",
    "        b = int(input('Enter the breadth of the rectangle:'))\n",
    "        res = l*b\n",
    "        print('The area of the rectangle is',res)\n",
    "    elif(s=='3'):\n",
    "        b = int(input('Enter the base:'))\n",
    "        h = int(input('Enter the height:'))\n",
    "        res = 0.5*b*h\n",
    "        print('The area of the triangle is',res)\n",
    "    elif(s=='4'):\n",
    "        r =int(input('Enter the radius:'))\n",
    "        res = 3.14*(r**2)\n",
    "        print('The area fo the circle is',res)\n",
    "else:\n",
    "    print('Please enter only integers')"
   ]
  },
  {
   "cell_type": "markdown",
   "metadata": {},
   "source": [
    "### Problem 2:\n",
    "\n",
    "Create and encrypter in python based on the ceaser cipher. It is a substitution cipher where each character of the original text is shifted a certain number characters in the alphabet. Write a function that would require 2 arguments – the input text to be encrypted and a key. For eg: Given the input text ‘hello’ and the key 3, the resulting encryted text would be ‘khoor’. Here you can see that every character in the string hello is shifted by 3 characters. ‘h’ has shifted to ‘k’, ‘e’ has shifted to ‘h’ and so on. If a key of 5 were used, the resulting string would be ‘mjqqt’. This function should be capable of ignoring any characters which are not alphabets. Th2 character ‘z’ entered b\n",
    "y the user for a key of 3 would result in ‘c’.\n",
    "\n",
    "Usage:<br>\n",
    "**encrypt(‘hello world!’, 3)**<br>\n",
    "**‘khoor zruog!’**\n",
    "\n",
    "Similarly create decrypter which can decode the encryted text when provided the input text and key\n",
    "\n",
    "Usage:<br>\n",
    "**decrypt(‘khoor zruog!’, 3)**<br>\n",
    "**‘hello world!’**\n",
    "\n",
    "For the sake of simplicity you can assume that input solely consists of lowercase alphabets, spaces and punctuation symbols. Numbers in the input text would also be ignored similar to symbols."
   ]
  },
  {
   "cell_type": "code",
   "execution_count": 3,
   "metadata": {},
   "outputs": [
    {
     "name": "stdout",
     "output_type": "stream",
     "text": [
      "Enter a string to encrypt:hello world!\n",
      "Enter the key:3\n",
      "khoor zruog!\n"
     ]
    }
   ],
   "source": [
    "def encrypt(en,k):\n",
    "    enc =''\n",
    "    for i in en:\n",
    "        if i.isalpha():\n",
    "            temp = ord(i)\n",
    "            a = temp+k\n",
    "            enc = enc + chr(a)\n",
    "        else:\n",
    "            enc = enc+i\n",
    "    print(enc)\n",
    "\n",
    "en= input('Enter a string to encrypt:')\n",
    "k = int(input('Enter the key:'))\n",
    "encrypt(en,k)"
   ]
  },
  {
   "cell_type": "code",
   "execution_count": 5,
   "metadata": {},
   "outputs": [
    {
     "name": "stdout",
     "output_type": "stream",
     "text": [
      "Enter a string to decrypt:khoor zruog!\n",
      "Enter the key:3\n",
      "hello world!\n"
     ]
    }
   ],
   "source": [
    "def decrypt(de,s):\n",
    "    dec=''\n",
    "    for i in de:\n",
    "        if i.isalpha():\n",
    "            temp = ord(i)\n",
    "            a = temp-s\n",
    "            dec = dec + chr(a)\n",
    "        else:\n",
    "            dec = dec +i\n",
    "    print(dec)\n",
    "\n",
    "de= input('Enter a string to decrypt:')\n",
    "k = int(input('Enter the key:'))\n",
    "decrypt(de,k)"
   ]
  }
 ],
 "metadata": {
  "kernelspec": {
   "display_name": "Python 3",
   "language": "python",
   "name": "python3"
  },
  "language_info": {
   "codemirror_mode": {
    "name": "ipython",
    "version": 3
   },
   "file_extension": ".py",
   "mimetype": "text/x-python",
   "name": "python",
   "nbconvert_exporter": "python",
   "pygments_lexer": "ipython3",
   "version": "3.7.3"
  }
 },
 "nbformat": 4,
 "nbformat_minor": 2
}
